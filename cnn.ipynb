{
 "cells": [
  {
   "cell_type": "code",
   "execution_count": 11,
   "metadata": {},
   "outputs": [],
   "source": [
    "import pandas as pd\n",
    "import numpy as np\n",
    "\n",
    "data = pd.read_csv('labeledTrainData.tsv', sep='\\t', encoding = 'ISO-8859-1')\n",
    "data['review'] = data['review'].str.replace('<br /><br />', ' ')\n",
    "x_train = data['review']\n",
    "y_train = data['sentiment']"
   ]
  },
  {
   "cell_type": "code",
   "execution_count": 12,
   "metadata": {},
   "outputs": [
    {
     "name": "stdout",
     "output_type": "stream",
     "text": [
      "Found 80278 unique tokens.\n"
     ]
    }
   ],
   "source": [
    "from keras.preprocessing.text import Tokenizer\n",
    "from keras.preprocessing.sequence import pad_sequences\n",
    "from keras.callbacks import ModelCheckpoint\n",
    "\n",
    "max_features = 20000\n",
    "tokenizer = Tokenizer(num_words=max_features)\n",
    "tokenizer.fit_on_texts(x_train)\n",
    "x_train = tokenizer.texts_to_sequences(x_train)\n",
    "\n",
    "word_index = tokenizer.word_index\n",
    "print('Found %s unique tokens.' % len(word_index))\n",
    "\n",
    "checkpoint = ModelCheckpoint('./keras.model', monitor='val_acc', verbose=1, save_best_only=True, mode='max')\n",
    "callbacks_list = [checkpoint]"
   ]
  },
  {
   "cell_type": "code",
   "execution_count": 15,
   "metadata": {},
   "outputs": [
    {
     "name": "stderr",
     "output_type": "stream",
     "text": [
      "b'Skipping line 43043: expected 2 fields, saw 3\\n'\n"
     ]
    },
    {
     "name": "stdout",
     "output_type": "stream",
     "text": [
      "69998\n",
      "Found 148988 unique tokens.\n"
     ]
    }
   ],
   "source": [
    "import pandas as pd\n",
    "import numpy as np\n",
    "from gensim.models import Word2Vec\n",
    "\n",
    "data1 = pd.read_csv('labeledTrainData.tsv', sep='\\t', encoding = 'ISO-8859-1')\n",
    "data1['review'] = data1['review'].str.replace('<br /><br />', ' ')\n",
    "\n",
    "data2 = pd.read_csv('unlabeledTrainData.tsv', sep='\\t', encoding = 'ISO-8859-1', error_bad_lines=False)\n",
    "data2['review'] = data2['review'].str.replace('<br /><br />', ' ')\n",
    "texts = list(data1['review']) + list(data2['review'])\n",
    "print(len(texts))\n",
    "\n",
    "from keras.preprocessing.text import Tokenizer\n",
    "from keras.preprocessing.sequence import pad_sequences\n",
    "from keras.callbacks import ModelCheckpoint\n",
    "\n",
    "x_train = data['review']\n",
    "y_train = data['sentiment']\n",
    "max_features = 20000\n",
    "tokenizer = Tokenizer(num_words=max_features)\n",
    "tokenizer.fit_on_texts(texts)\n",
    "x_train = tokenizer.texts_to_sequences(x_train)\n",
    "\n",
    "word_index = tokenizer.word_index\n",
    "print('Found %s unique tokens.' % len(word_index))\n",
    "\n",
    "checkpoint = ModelCheckpoint('./keras.model', monitor='val_acc', verbose=1, save_best_only=True, mode='max')\n",
    "callbacks_list = [checkpoint]"
   ]
  },
  {
   "cell_type": "code",
   "execution_count": 16,
   "metadata": {},
   "outputs": [
    {
     "name": "stdout",
     "output_type": "stream",
     "text": [
      "Pad sequences (samples x time)\n",
      "x_train shape: (20000, 600)\n",
      "Build model...\n",
      "Train on 18000 samples, validate on 2000 samples\n",
      "Epoch 1/4\n",
      "18000/18000 [==============================] - 150s 8ms/step - loss: 0.4527 - acc: 0.7654 - val_loss: 0.2777 - val_acc: 0.8815\n",
      "\n",
      "Epoch 00001: val_acc improved from -inf to 0.88150, saving model to ./keras.model\n",
      "Epoch 2/4\n",
      "18000/18000 [==============================] - 150s 8ms/step - loss: 0.2228 - acc: 0.9098 - val_loss: 0.2658 - val_acc: 0.8860\n",
      "\n",
      "Epoch 00002: val_acc improved from 0.88150 to 0.88600, saving model to ./keras.model\n",
      "Epoch 3/4\n",
      "18000/18000 [==============================] - 143s 8ms/step - loss: 0.1150 - acc: 0.9594 - val_loss: 0.2943 - val_acc: 0.8920\n",
      "\n",
      "Epoch 00003: val_acc improved from 0.88600 to 0.89200, saving model to ./keras.model\n",
      "Epoch 4/4\n",
      "18000/18000 [==============================] - 117s 7ms/step - loss: 0.0465 - acc: 0.9858 - val_loss: 0.3952 - val_acc: 0.8745\n",
      "\n",
      "Epoch 00004: val_acc did not improve from 0.89200\n"
     ]
    },
    {
     "data": {
      "text/plain": [
       "<keras.callbacks.History at 0x7fae9f512588>"
      ]
     },
     "execution_count": 16,
     "metadata": {},
     "output_type": "execute_result"
    }
   ],
   "source": [
    "from keras.preprocessing import sequence\n",
    "from keras.models import Sequential\n",
    "from keras.layers import Dense, Dropout, Activation\n",
    "from keras.layers import Embedding\n",
    "from keras.layers import Conv1D, GlobalMaxPooling1D\n",
    "from keras.datasets import imdb\n",
    "\n",
    "# max_features = 5000\n",
    "maxlen = 600\n",
    "batch_size = 32\n",
    "embedding_dims = 50\n",
    "filters = 250\n",
    "kernel_size = 3\n",
    "hidden_dims = 250\n",
    "epochs = 4\n",
    "\n",
    "\n",
    "print('Pad sequences (samples x time)')\n",
    "x_train = sequence.pad_sequences(x_train, maxlen=maxlen)\n",
    "print('x_train shape:', x_train.shape)\n",
    "\n",
    "print('Build model...')\n",
    "model = Sequential()\n",
    "\n",
    "model.add(Embedding(max_features,\n",
    "                    embedding_dims,\n",
    "                    input_length=maxlen))\n",
    "model.add(Dropout(0.2))\n",
    "\n",
    "model.add(Conv1D(filters,\n",
    "                 kernel_size,\n",
    "                 padding='valid',\n",
    "                 activation='relu',\n",
    "                 strides=1))\n",
    "\n",
    "model.add(GlobalMaxPooling1D())\n",
    "\n",
    "model.add(Dense(hidden_dims))\n",
    "model.add(Dropout(0.2))\n",
    "model.add(Activation('relu'))\n",
    "\n",
    "model.add(Dense(1))\n",
    "model.add(Activation('sigmoid'))\n",
    "\n",
    "model.compile(loss='binary_crossentropy',\n",
    "              optimizer='adam',\n",
    "              metrics=['accuracy'])\n",
    "model.fit(x_train, y_train,\n",
    "          batch_size=batch_size,\n",
    "          epochs=epochs,\n",
    "          validation_split=0.1,\n",
    "          callbacks=callbacks_list)\n"
   ]
  },
  {
   "cell_type": "code",
   "execution_count": null,
   "metadata": {},
   "outputs": [],
   "source": [
    "model.save('keras.model')"
   ]
  },
  {
   "cell_type": "code",
   "execution_count": 17,
   "metadata": {},
   "outputs": [],
   "source": [
    "test_data = pd.read_csv('testData.tsv', sep='\\t', encoding = 'ISO-8859-1')\n",
    "test_data['review'] = test_data['review'].str.replace('<br /><br />', ' ')\n",
    "x_test = test_data['review']\n",
    "x_test = tokenizer.texts_to_sequences(x_test)\n",
    "x_test = sequence.pad_sequences(x_test, maxlen=maxlen)\n",
    "\n",
    "result = model.predict(x_test)"
   ]
  },
  {
   "cell_type": "code",
   "execution_count": 18,
   "metadata": {},
   "outputs": [
    {
     "name": "stdout",
     "output_type": "stream",
     "text": [
      "5000\n"
     ]
    }
   ],
   "source": [
    "test_id = list(test_data['id'])\n",
    "print(len(test_id))\n",
    "out = open('submission.csv', 'w')\n",
    "out.write('id,sentiment\\n')\n",
    "for i in range(len(result)):\n",
    "    out.write(test_id[i] + ',' + str(int(np.rint(result[i][0]))) + '\\n')"
   ]
  },
  {
   "cell_type": "code",
   "execution_count": null,
   "metadata": {},
   "outputs": [],
   "source": []
  }
 ],
 "metadata": {
  "kernelspec": {
   "display_name": "Python 3",
   "language": "python",
   "name": "python3"
  },
  "language_info": {
   "codemirror_mode": {
    "name": "ipython",
    "version": 3
   },
   "file_extension": ".py",
   "mimetype": "text/x-python",
   "name": "python",
   "nbconvert_exporter": "python",
   "pygments_lexer": "ipython3",
   "version": "3.5.2"
  }
 },
 "nbformat": 4,
 "nbformat_minor": 2
}
